{
 "cells": [
  {
   "cell_type": "code",
   "execution_count": 2,
   "id": "6a5e67e1",
   "metadata": {},
   "outputs": [],
   "source": [
    "import numpy as np\n",
    "import keras\n",
    "from keras.datasets import mnist\n",
    "from keras.models import Model\n",
    "from keras.layers import Dense, Input\n",
    "from keras.layers import Conv2D, MaxPooling2D, Dropout, Flatten\n",
    "from keras import backend as k\n"
   ]
  },
  {
   "cell_type": "markdown",
   "id": "f9c5d5b5",
   "metadata": {},
   "source": [
    "# train test split"
   ]
  },
  {
   "cell_type": "code",
   "execution_count": 3,
   "id": "856de258",
   "metadata": {},
   "outputs": [],
   "source": [
    "(x_train, y_train), (x_test, y_test) = mnist.load_data()\n"
   ]
  },
  {
   "cell_type": "markdown",
   "id": "d91839df",
   "metadata": {},
   "source": [
    "# data normalization"
   ]
  },
  {
   "cell_type": "code",
   "execution_count": 5,
   "id": "9d9c7ac1",
   "metadata": {},
   "outputs": [],
   "source": [
    "img_rows, img_cols=28, 28\n",
    "\n",
    "if k.image_data_format() == 'channels_first':\n",
    "    x_train = x_train.reshape(x_train.shape[0], 1, img_rows, img_cols)\n",
    "    x_test = x_test.reshape(x_test.shape[0], 1, img_rows, img_cols)\n",
    "    inpx = (1, img_rows, img_cols)\n",
    "\n",
    "else:\n",
    "    x_train = x_train.reshape(x_train.shape[0], img_rows, img_cols, 1)\n",
    "    x_test = x_test.reshape(x_test.shape[0], img_rows, img_cols, 1)\n",
    "    inpx = (img_rows, img_cols, 1)\n",
    "\n",
    "x_train = x_train.astype('float32')\n",
    "x_test = x_test.astype('float32')\n",
    "x_train /= 255\n",
    "x_test /= 255\n"
   ]
  },
  {
   "cell_type": "code",
   "execution_count": 6,
   "id": "8d212d4d",
   "metadata": {},
   "outputs": [],
   "source": [
    "y_train = keras.utils.to_categorical(y_train)\n",
    "y_test = keras.utils.to_categorical(y_test)\n"
   ]
  },
  {
   "cell_type": "markdown",
   "id": "00936c2a",
   "metadata": {},
   "source": [
    "# neural networks"
   ]
  },
  {
   "cell_type": "code",
   "execution_count": 7,
   "id": "9ca4f3d1",
   "metadata": {},
   "outputs": [],
   "source": [
    "inpx = Input(shape=inpx)\n",
    "layer1 = Conv2D(32, kernel_size=(3, 3), activation='relu')(inpx)\n",
    "layer2 = Conv2D(64, (3, 3), activation='relu')(layer1)\n",
    "layer3 = MaxPooling2D(pool_size=(3, 3))(layer2)\n",
    "layer4 = Dropout(0.5)(layer3)\n",
    "layer5 = Flatten()(layer4)\n",
    "layer6 = Dense(250, activation='sigmoid')(layer5)\n",
    "layer7 = Dense(10, activation='softmax')(layer6)\n"
   ]
  },
  {
   "cell_type": "markdown",
   "id": "0e0249a7",
   "metadata": {},
   "source": [
    "# model fit and compile"
   ]
  },
  {
   "cell_type": "code",
   "execution_count": 9,
   "id": "de65a2ef",
   "metadata": {},
   "outputs": [
    {
     "name": "stdout",
     "output_type": "stream",
     "text": [
      "Epoch 1/12\n",
      "120/120 [==============================] - 6s 46ms/step - loss: 0.9045 - accuracy: 0.7448\n",
      "Epoch 2/12\n",
      "120/120 [==============================] - 6s 47ms/step - loss: 0.1389 - accuracy: 0.9601\n",
      "Epoch 3/12\n",
      "120/120 [==============================] - 6s 47ms/step - loss: 0.0821 - accuracy: 0.9774\n",
      "Epoch 4/12\n",
      "120/120 [==============================] - 6s 47ms/step - loss: 0.0632 - accuracy: 0.9819\n",
      "Epoch 5/12\n",
      "120/120 [==============================] - 6s 47ms/step - loss: 0.0515 - accuracy: 0.9852\n",
      "Epoch 6/12\n",
      "120/120 [==============================] - 6s 47ms/step - loss: 0.0443 - accuracy: 0.9868\n",
      "Epoch 7/12\n",
      "120/120 [==============================] - 6s 47ms/step - loss: 0.0360 - accuracy: 0.9902\n",
      "Epoch 8/12\n",
      "120/120 [==============================] - 6s 47ms/step - loss: 0.0337 - accuracy: 0.9904\n",
      "Epoch 9/12\n",
      "120/120 [==============================] - 6s 47ms/step - loss: 0.0293 - accuracy: 0.9924\n",
      "Epoch 10/12\n",
      "120/120 [==============================] - 6s 47ms/step - loss: 0.0259 - accuracy: 0.9926\n",
      "Epoch 11/12\n",
      "120/120 [==============================] - 6s 47ms/step - loss: 0.0238 - accuracy: 0.9927\n",
      "Epoch 12/12\n",
      "120/120 [==============================] - 6s 47ms/step - loss: 0.0225 - accuracy: 0.9933\n"
     ]
    },
    {
     "data": {
      "text/plain": [
       "<tensorflow.python.keras.callbacks.History at 0x1c91ef42128>"
      ]
     },
     "execution_count": 9,
     "metadata": {},
     "output_type": "execute_result"
    }
   ],
   "source": [
    "model = Model([inpx], layer7)\n",
    "model.compile(optimizer='adam',\n",
    "\t\t\tloss=keras.losses.categorical_crossentropy,\n",
    "\t\t\tmetrics=['accuracy'])\n",
    "\n",
    "model.fit(x_train, y_train, epochs=12, batch_size=500)\n"
   ]
  },
  {
   "cell_type": "markdown",
   "id": "b5d47fed",
   "metadata": {},
   "source": [
    "# Test data score"
   ]
  },
  {
   "cell_type": "code",
   "execution_count": 10,
   "id": "95b72abe",
   "metadata": {},
   "outputs": [
    {
     "name": "stdout",
     "output_type": "stream",
     "text": [
      "loss= 0.02614622749388218\n",
      "accuracy= 0.9921000003814697\n"
     ]
    }
   ],
   "source": [
    "score = model.evaluate(x_test, y_test, verbose=0)\n",
    "print('loss=', score[0])\n",
    "print('accuracy=', score[1])\n"
   ]
  },
  {
   "cell_type": "markdown",
   "id": "d43feb2a",
   "metadata": {},
   "source": [
    "# train data score"
   ]
  },
  {
   "cell_type": "code",
   "execution_count": 11,
   "id": "eb2ea2db",
   "metadata": {},
   "outputs": [
    {
     "name": "stdout",
     "output_type": "stream",
     "text": [
      "1875/1875 [==============================] - 22s 11ms/step - loss: 0.0102 - accuracy: 0.9979\n",
      "loss= 0.010242386721074581\n",
      "accuracy= 0.9978500008583069\n"
     ]
    }
   ],
   "source": [
    "score=model.evaluate(x_train,y_train)\n",
    "print('loss=', score[0])\n",
    "print('accuracy=', score[1])\n"
   ]
  },
  {
   "cell_type": "markdown",
   "id": "25ae700a",
   "metadata": {},
   "source": [
    "# visualisation of pridicting image"
   ]
  },
  {
   "cell_type": "code",
   "execution_count": 14,
   "id": "5fe6bd71",
   "metadata": {},
   "outputs": [
    {
     "data": {
      "image/png": "[encoded data removed]",
      "text/plain": [
       "<Figure size 432x288 with 1 Axes>"
      ]
     },
     "metadata": {
      "needs_background": "light"
     },
     "output_type": "display_data"
    }
   ],
   "source": [
    "import matplotlib.pyplot as plt\n",
    "plt.imshow(x_test[3])\n",
    "plt.show()"
   ]
  },
  {
   "cell_type": "markdown",
   "id": "17a92da1",
   "metadata": {},
   "source": [
    "# pridicting(testing the model)"
   ]
  },
  {
   "cell_type": "code",
   "execution_count": 15,
   "id": "8cc4faaf",
   "metadata": {},
   "outputs": [
    {
     "data": {
      "image/png": "[encoded data removed]",
      "text/plain": [
       "<Figure size 432x288 with 1 Axes>"
      ]
     },
     "metadata": {
      "needs_background": "light"
     },
     "output_type": "display_data"
    }
   ],
   "source": [
    "plt.imshow(model.predict(x_test[3].reshape(1,28,28,1)))\n",
    "plt.show()"
   ]
  },
  {
   "cell_type": "code",
   "execution_count": null,
   "id": "487dccc0",
   "metadata": {},
   "outputs": [],
   "source": []
  }
 ],
 "metadata": {
  "kernelspec": {
   "display_name": "Python 3",
   "language": "python",
   "name": "python3"
  },
  "language_info": {
   "codemirror_mode": {
    "name": "ipython",
    "version": 3
   },
   "file_extension": ".py",
   "mimetype": "text/x-python",
   "name": "python",
   "nbconvert_exporter": "python",
   "pygments_lexer": "ipython3",
   "version": "3.6.12"
  }
 },
 "nbformat": 4,
 "nbformat_minor": 5
}
